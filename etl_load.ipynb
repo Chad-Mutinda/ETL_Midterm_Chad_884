{
 "cells": [
  {
   "cell_type": "code",
   "execution_count": 2,
   "id": "a5869606",
   "metadata": {},
   "outputs": [],
   "source": [
    "import os"
   ]
  },
  {
   "cell_type": "code",
   "execution_count": 5,
   "id": "ef0424a2",
   "metadata": {},
   "outputs": [],
   "source": [
    "import pandas as pd\n",
    "raw_df = pd.read_csv('raw_data.csv')\n",
    "incremental_df = pd.read_csv('incremental_data.csv')"
   ]
  },
  {
   "cell_type": "code",
   "execution_count": 3,
   "id": "9cd1a40a",
   "metadata": {},
   "outputs": [],
   "source": [
    "os.makedirs('transformed', exist_ok=True)"
   ]
  },
  {
   "cell_type": "code",
   "execution_count": 6,
   "id": "535e9d90",
   "metadata": {},
   "outputs": [],
   "source": [
    "# 2. Save with EXACT specified filenames\n",
    "raw_df.to_csv('transformed/transformed_full.csv', index=False)\n",
    "incremental_df.to_csv('transformed/transformed_incremental.csv', index=False)"
   ]
  },
  {
   "cell_type": "code",
   "execution_count": 7,
   "id": "45b5ca80",
   "metadata": {},
   "outputs": [
    {
     "name": "stdout",
     "output_type": "stream",
     "text": [
      "Files saved successfully in /transformed:\n",
      "['transformed_full.csv', 'transformed_incremental.csv']\n"
     ]
    }
   ],
   "source": [
    "# 3. Verification\n",
    "print(\"Files saved successfully in /transformed:\")\n",
    "print(os.listdir('transformed'))"
   ]
  },
  {
   "cell_type": "code",
   "execution_count": 8,
   "id": "b88e98e1",
   "metadata": {},
   "outputs": [],
   "source": [
    "import sqlite3\n",
    "import pandas as pd"
   ]
  },
  {
   "cell_type": "code",
   "execution_count": 9,
   "id": "da3d60a7",
   "metadata": {},
   "outputs": [],
   "source": [
    "# 1. Load transformed data\n",
    "full = pd.read_csv('transformed/transformed_full.csv')\n",
    "incr = pd.read_csv('transformed/transformed_incremental.csv')"
   ]
  },
  {
   "cell_type": "code",
   "execution_count": 10,
   "id": "a8539ddb",
   "metadata": {},
   "outputs": [
    {
     "name": "stdout",
     "output_type": "stream",
     "text": [
      "Requirement already satisfied: mysql-connector-python in ./opt/anaconda3/lib/python3.8/site-packages (9.0.0)\n",
      "Requirement already satisfied: sqlalchemy in ./opt/anaconda3/lib/python3.8/site-packages (1.4.7)\n",
      "Requirement already satisfied: pymysql in ./opt/anaconda3/lib/python3.8/site-packages (1.1.1)\n",
      "Requirement already satisfied: greenlet!=0.4.17 in ./opt/anaconda3/lib/python3.8/site-packages (from sqlalchemy) (1.0.0)\n"
     ]
    }
   ],
   "source": [
    "!pip install mysql-connector-python sqlalchemy pymysql"
   ]
  },
  {
   "cell_type": "code",
   "execution_count": 11,
   "id": "57a0f50c",
   "metadata": {},
   "outputs": [],
   "source": [
    "import pandas as pd\n",
    "df = pd.read_csv('transformed_full.csv')\n",
    "df = pd.read_csv('transformed_incremental.csv')"
   ]
  },
  {
   "cell_type": "code",
   "execution_count": null,
   "id": "fe0bc81c",
   "metadata": {},
   "outputs": [],
   "source": []
  }
 ],
 "metadata": {
  "kernelspec": {
   "display_name": "Python 3",
   "language": "python",
   "name": "python3"
  },
  "language_info": {
   "codemirror_mode": {
    "name": "ipython",
    "version": 3
   },
   "file_extension": ".py",
   "mimetype": "text/x-python",
   "name": "python",
   "nbconvert_exporter": "python",
   "pygments_lexer": "ipython3",
   "version": "3.8.8"
  }
 },
 "nbformat": 4,
 "nbformat_minor": 5
}
