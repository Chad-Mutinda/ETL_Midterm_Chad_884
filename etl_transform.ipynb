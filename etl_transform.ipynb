{
 "cells": [
  {
   "cell_type": "code",
   "execution_count": 5,
   "id": "95c9c11f",
   "metadata": {},
   "outputs": [],
   "source": [
    "import pandas as pd"
   ]
  },
  {
   "cell_type": "code",
   "execution_count": 6,
   "id": "5046b190",
   "metadata": {},
   "outputs": [],
   "source": [
    "raw_df = pd.read_csv('raw_data.csv')\n",
    "incremental_df = pd.read_csv('incremental_data.csv')"
   ]
  },
  {
   "cell_type": "code",
   "execution_count": 7,
   "id": "b456f21e",
   "metadata": {},
   "outputs": [
    {
     "name": "stdout",
     "output_type": "stream",
     "text": [
      "\n",
      "=== TRANSFORMATION 1: Handling Missing Values ===\n",
      "BEFORE:\n",
      "Missing values in raw_data: order_id          0\n",
      "customer_name     1\n",
      "product           0\n",
      "quantity         26\n",
      "unit_price       35\n",
      "order_date        1\n",
      "region           25\n",
      "dtype: int64\n",
      "\n",
      "Missing values in incremental_data: order_id         0\n",
      "customer_name    6\n",
      "product          0\n",
      "quantity         4\n",
      "unit_price       0\n",
      "order_date       0\n",
      "region           2\n",
      "dtype: int64\n"
     ]
    }
   ],
   "source": [
    "# %% [Transformation 1: Handle Missing Values]\n",
    "print(\"\\n=== TRANSFORMATION 1: Handling Missing Values ===\")\n",
    "print(\"BEFORE:\")\n",
    "print(\"Missing values in raw_data:\", raw_df.isna().sum())\n",
    "print(\"\\nMissing values in incremental_data:\", incremental_df.isna().sum())"
   ]
  },
  {
   "cell_type": "code",
   "execution_count": 8,
   "id": "624894c9",
   "metadata": {},
   "outputs": [],
   "source": [
    "def handle_missing(df):\n",
    "    # Why: Customer names are crucial for analysis\n",
    "    df['customer_name'] = df['customer_name'].fillna('Unknown')\n",
    "    \n",
    "    # Why: Region is important for geographical reporting\n",
    "    df['region'] = df['region'].fillna('Unspecified')\n",
    "    \n",
    "    # Why: Assume at least 1 quantity if not specified\n",
    "    df['quantity'] = df['quantity'].fillna(1)\n",
    "    \n",
    "    # Why: Use median product price when missing\n",
    "    df['unit_price'] = df['unit_price'].fillna(\n",
    "        df.groupby('product')['unit_price'].transform('median')\n",
    "    )\n",
    "    return df"
   ]
  },
  {
   "cell_type": "code",
   "execution_count": 9,
   "id": "afe3e39e",
   "metadata": {},
   "outputs": [],
   "source": [
    "raw_df = handle_missing(raw_df)\n",
    "incremental_df = handle_missing(incremental_df)"
   ]
  },
  {
   "cell_type": "code",
   "execution_count": 10,
   "id": "8319d385",
   "metadata": {},
   "outputs": [
    {
     "name": "stdout",
     "output_type": "stream",
     "text": [
      "\n",
      "AFTER:\n",
      "Missing values in raw_data: order_id         0\n",
      "customer_name    0\n",
      "product          0\n",
      "quantity         0\n",
      "unit_price       0\n",
      "order_date       1\n",
      "region           0\n",
      "dtype: int64\n"
     ]
    }
   ],
   "source": [
    "print(\"\\nAFTER:\")\n",
    "print(\"Missing values in raw_data:\", raw_df.isna().sum())"
   ]
  },
  {
   "cell_type": "code",
   "execution_count": 11,
   "id": "9a7c09b5",
   "metadata": {},
   "outputs": [
    {
     "name": "stdout",
     "output_type": "stream",
     "text": [
      "\n",
      "=== TRANSFORMATION 2: Calculating Total Price ===\n",
      "BEFORE SAMPLE:\n",
      "   quantity  unit_price\n",
      "0       1.0       500.0\n",
      "1       1.0       250.0\n",
      "2       2.0       250.0\n"
     ]
    }
   ],
   "source": [
    "# %% [Transformation 2: Calculate Total Price]\n",
    "print(\"\\n=== TRANSFORMATION 2: Calculating Total Price ===\")\n",
    "print(\"BEFORE SAMPLE:\")\n",
    "print(raw_df[['quantity', 'unit_price']].head(3))"
   ]
  },
  {
   "cell_type": "code",
   "execution_count": 12,
   "id": "fcaf9f23",
   "metadata": {},
   "outputs": [],
   "source": [
    "def calculate_totals(df):\n",
    "    # Why: Business needs total order value\n",
    "    df['total_price'] = df['quantity'] * df['unit_price']\n",
    "    \n",
    "    # Why: Flag high-value orders for priority handling\n",
    "    df['high_value'] = df['total_price'] > 1000\n",
    "    return df\n",
    "\n",
    "raw_df = calculate_totals(raw_df)\n",
    "incremental_df = calculate_totals(incremental_df)"
   ]
  },
  {
   "cell_type": "code",
   "execution_count": 13,
   "id": "4eef4f8e",
   "metadata": {},
   "outputs": [
    {
     "name": "stdout",
     "output_type": "stream",
     "text": [
      "\n",
      "AFTER SAMPLE:\n",
      "   quantity  unit_price  total_price  high_value\n",
      "0       1.0       500.0        500.0       False\n",
      "1       1.0       250.0        250.0       False\n",
      "2       2.0       250.0        500.0       False\n"
     ]
    }
   ],
   "source": [
    "print(\"\\nAFTER SAMPLE:\")\n",
    "print(raw_df[['quantity', 'unit_price', 'total_price', 'high_value']].head(3))"
   ]
  },
  {
   "cell_type": "code",
   "execution_count": 14,
   "id": "f4bab81a",
   "metadata": {},
   "outputs": [
    {
     "name": "stdout",
     "output_type": "stream",
     "text": [
      "\n",
      "=== TRANSFORMATION 3: Date Standardization ===\n",
      "BEFORE dtypes:\n",
      "order_id           int64\n",
      "customer_name     object\n",
      "product           object\n",
      "quantity         float64\n",
      "unit_price       float64\n",
      "order_date        object\n",
      "region            object\n",
      "total_price      float64\n",
      "high_value          bool\n",
      "dtype: object\n"
     ]
    }
   ],
   "source": [
    "# %% [Transformation 3: Date Standardization]\n",
    "print(\"\\n=== TRANSFORMATION 3: Date Standardization ===\")\n",
    "print(\"BEFORE dtypes:\")\n",
    "print(raw_df.dtypes)"
   ]
  },
  {
   "cell_type": "code",
   "execution_count": 15,
   "id": "36307608",
   "metadata": {},
   "outputs": [],
   "source": [
    "def process_dates(df):\n",
    "    # Why: Enable time-based analysis\n",
    "    df['order_date'] = pd.to_datetime(df['order_date'])\n",
    "    \n",
    "    # Why: Simplify monthly reporting\n",
    "    df['order_month'] = df['order_date'].dt.month_name()\n",
    "    \n",
    "    # Why: Identify weekend orders\n",
    "    df['is_weekend'] = df['order_date'].dt.dayofweek > 4\n",
    "    return df"
   ]
  },
  {
   "cell_type": "code",
   "execution_count": 16,
   "id": "f4db5357",
   "metadata": {},
   "outputs": [],
   "source": [
    "raw_df = process_dates(raw_df)\n",
    "incremental_df = process_dates(incremental_df)"
   ]
  },
  {
   "cell_type": "code",
   "execution_count": 17,
   "id": "cd74a918",
   "metadata": {},
   "outputs": [
    {
     "name": "stdout",
     "output_type": "stream",
     "text": [
      "\n",
      "AFTER dtypes:\n",
      "order_id                  int64\n",
      "customer_name            object\n",
      "product                  object\n",
      "quantity                float64\n",
      "unit_price              float64\n",
      "order_date       datetime64[ns]\n",
      "region                   object\n",
      "total_price             float64\n",
      "high_value                 bool\n",
      "order_month              object\n",
      "is_weekend                 bool\n",
      "dtype: object\n"
     ]
    }
   ],
   "source": [
    "print(\"\\nAFTER dtypes:\")\n",
    "print(raw_df.dtypes)"
   ]
  },
  {
   "cell_type": "code",
   "execution_count": 18,
   "id": "a313f39b",
   "metadata": {},
   "outputs": [
    {
     "name": "stdout",
     "output_type": "stream",
     "text": [
      "\n",
      "=== TRANSFORMATION 4: Data Quality ===\n",
      "BEFORE: 100 rows in raw_data\n"
     ]
    }
   ],
   "source": [
    "# %% [Transformation 4: Data Quality]\n",
    "print(\"\\n=== TRANSFORMATION 4: Data Quality ===\")\n",
    "print(f\"BEFORE: {len(raw_df)} rows in raw_data\")"
   ]
  },
  {
   "cell_type": "code",
   "execution_count": 19,
   "id": "2f2f3c82",
   "metadata": {},
   "outputs": [],
   "source": [
    "def clean_data(df):\n",
    "    # Why: Remove duplicate orders (business rule: order_ids must be unique)\n",
    "    df = df.drop_duplicates(subset='order_id', keep='first')\n",
    "    \n",
    "    # Why: Remove records with impossible prices\n",
    "    df = df[df['unit_price'] > 0]\n",
    "    return df"
   ]
  },
  {
   "cell_type": "code",
   "execution_count": 20,
   "id": "473a57aa",
   "metadata": {},
   "outputs": [],
   "source": [
    "raw_df = clean_data(raw_df)\n",
    "incremental_df = clean_data(incremental_df)"
   ]
  },
  {
   "cell_type": "code",
   "execution_count": 21,
   "id": "c20df4e1",
   "metadata": {},
   "outputs": [
    {
     "name": "stdout",
     "output_type": "stream",
     "text": [
      "AFTER: 99 rows in raw_data\n"
     ]
    }
   ],
   "source": [
    "print(f\"AFTER: {len(raw_df)} rows in raw_data\")"
   ]
  },
  {
   "cell_type": "code",
   "execution_count": null,
   "id": "b96f1732",
   "metadata": {},
   "outputs": [],
   "source": []
  }
 ],
 "metadata": {
  "kernelspec": {
   "display_name": "Python 3",
   "language": "python",
   "name": "python3"
  },
  "language_info": {
   "codemirror_mode": {
    "name": "ipython",
    "version": 3
   },
   "file_extension": ".py",
   "mimetype": "text/x-python",
   "name": "python",
   "nbconvert_exporter": "python",
   "pygments_lexer": "ipython3",
   "version": "3.8.8"
  }
 },
 "nbformat": 4,
 "nbformat_minor": 5
}
